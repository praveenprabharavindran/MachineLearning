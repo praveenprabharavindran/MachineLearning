{
 "cells": [
  {
   "cell_type": "markdown",
   "metadata": {},
   "source": [
    "# Data preprocessing with Pandas"
   ]
  },
  {
   "cell_type": "markdown",
   "metadata": {},
   "source": [
    "## Import libraries"
   ]
  },
  {
   "cell_type": "code",
   "execution_count": 1,
   "metadata": {},
   "outputs": [],
   "source": [
    "import pandas as pd\n",
    "import numpy as np"
   ]
  },
  {
   "cell_type": "markdown",
   "metadata": {},
   "source": [
    "## Read csv file from disk into a dataframe"
   ]
  },
  {
   "cell_type": "code",
   "execution_count": 2,
   "metadata": {},
   "outputs": [],
   "source": [
    "data = pd.read_csv('data/Sample_sheet.csv')"
   ]
  },
  {
   "cell_type": "markdown",
   "metadata": {},
   "source": [
    "## Display the first few rows of the dataframe"
   ]
  },
  {
   "cell_type": "code",
   "execution_count": 3,
   "metadata": {},
   "outputs": [
    {
     "data": {
      "text/html": [
       "<div>\n",
       "<style scoped>\n",
       "    .dataframe tbody tr th:only-of-type {\n",
       "        vertical-align: middle;\n",
       "    }\n",
       "\n",
       "    .dataframe tbody tr th {\n",
       "        vertical-align: top;\n",
       "    }\n",
       "\n",
       "    .dataframe thead th {\n",
       "        text-align: right;\n",
       "    }\n",
       "</style>\n",
       "<table border=\"1\" class=\"dataframe\">\n",
       "  <thead>\n",
       "    <tr style=\"text-align: right;\">\n",
       "      <th></th>\n",
       "      <th>S. No.</th>\n",
       "      <th>Names</th>\n",
       "      <th>Years of Experience</th>\n",
       "      <th>Domain</th>\n",
       "      <th>Relevant Experience</th>\n",
       "      <th>Income(USD)</th>\n",
       "      <th>Marital Status</th>\n",
       "      <th>Number of siblings</th>\n",
       "    </tr>\n",
       "  </thead>\n",
       "  <tbody>\n",
       "    <tr>\n",
       "      <th>0</th>\n",
       "      <td>1</td>\n",
       "      <td>John</td>\n",
       "      <td>8</td>\n",
       "      <td>Automotive</td>\n",
       "      <td>6.0</td>\n",
       "      <td>20000.0</td>\n",
       "      <td>Single</td>\n",
       "      <td>3</td>\n",
       "    </tr>\n",
       "    <tr>\n",
       "      <th>1</th>\n",
       "      <td>2</td>\n",
       "      <td>Jason</td>\n",
       "      <td>5</td>\n",
       "      <td>Entertainment</td>\n",
       "      <td>4.0</td>\n",
       "      <td>15000.0</td>\n",
       "      <td>Married</td>\n",
       "      <td>3</td>\n",
       "    </tr>\n",
       "    <tr>\n",
       "      <th>2</th>\n",
       "      <td>3</td>\n",
       "      <td>Maria</td>\n",
       "      <td>10</td>\n",
       "      <td>Banking</td>\n",
       "      <td>3.0</td>\n",
       "      <td>18000.0</td>\n",
       "      <td>Single</td>\n",
       "      <td>3</td>\n",
       "    </tr>\n",
       "    <tr>\n",
       "      <th>3</th>\n",
       "      <td>4</td>\n",
       "      <td>Jacob</td>\n",
       "      <td>12</td>\n",
       "      <td>Insurance</td>\n",
       "      <td>10.0</td>\n",
       "      <td>24000.0</td>\n",
       "      <td>Single</td>\n",
       "      <td>3</td>\n",
       "    </tr>\n",
       "    <tr>\n",
       "      <th>4</th>\n",
       "      <td>5</td>\n",
       "      <td>Sarah</td>\n",
       "      <td>15</td>\n",
       "      <td>Logistics</td>\n",
       "      <td>5.0</td>\n",
       "      <td>8000.0</td>\n",
       "      <td>Married</td>\n",
       "      <td>3</td>\n",
       "    </tr>\n",
       "  </tbody>\n",
       "</table>\n",
       "</div>"
      ],
      "text/plain": [
       "   S. No.  Names  Years of Experience         Domain  Relevant Experience  \\\n",
       "0       1   John                    8     Automotive                  6.0   \n",
       "1       2  Jason                    5  Entertainment                  4.0   \n",
       "2       3  Maria                   10        Banking                  3.0   \n",
       "3       4  Jacob                   12      Insurance                 10.0   \n",
       "4       5  Sarah                   15      Logistics                  5.0   \n",
       "\n",
       "   Income(USD) Marital Status  Number of siblings  \n",
       "0      20000.0         Single                   3  \n",
       "1      15000.0        Married                   3  \n",
       "2      18000.0         Single                   3  \n",
       "3      24000.0         Single                   3  \n",
       "4       8000.0        Married                   3  "
      ]
     },
     "execution_count": 3,
     "metadata": {},
     "output_type": "execute_result"
    }
   ],
   "source": [
    "\n",
    "data.head()"
   ]
  },
  {
   "cell_type": "markdown",
   "metadata": {},
   "source": [
    "## Display columns from dataframe"
   ]
  },
  {
   "cell_type": "code",
   "execution_count": 4,
   "metadata": {},
   "outputs": [
    {
     "data": {
      "text/plain": [
       "Index(['S. No.', 'Names', 'Years of Experience', 'Domain',\n",
       "       'Relevant Experience', 'Income(USD)', 'Marital Status',\n",
       "       'Number of siblings'],\n",
       "      dtype='object')"
      ]
     },
     "execution_count": 4,
     "metadata": {},
     "output_type": "execute_result"
    }
   ],
   "source": [
    "data.columns"
   ]
  },
  {
   "cell_type": "markdown",
   "metadata": {},
   "source": [
    "## Display the data types of the columns in the dataframe"
   ]
  },
  {
   "cell_type": "code",
   "execution_count": 5,
   "metadata": {},
   "outputs": [
    {
     "data": {
      "text/plain": [
       "S. No.                   int64\n",
       "Names                   object\n",
       "Years of Experience      int64\n",
       "Domain                  object\n",
       "Relevant Experience    float64\n",
       "Income(USD)            float64\n",
       "Marital Status          object\n",
       "Number of siblings       int64\n",
       "dtype: object"
      ]
     },
     "execution_count": 5,
     "metadata": {},
     "output_type": "execute_result"
    }
   ],
   "source": [
    "data.dtypes"
   ]
  },
  {
   "cell_type": "markdown",
   "metadata": {},
   "source": [
    "## Displaying DataFrame Information"
   ]
  },
  {
   "cell_type": "markdown",
   "metadata": {},
   "source": [
    "The `info()` method provides a concise summary of the DataFrame. This includes:\n",
    " - the number of non-null entries in each column, \n",
    " - the data type of each column, \n",
    " - the memory usage of the DataFrame, and other useful information."
   ]
  },
  {
   "cell_type": "code",
   "execution_count": 6,
   "metadata": {},
   "outputs": [
    {
     "name": "stdout",
     "output_type": "stream",
     "text": [
      "<class 'pandas.core.frame.DataFrame'>\n",
      "RangeIndex: 10 entries, 0 to 9\n",
      "Data columns (total 8 columns):\n",
      " #   Column               Non-Null Count  Dtype  \n",
      "---  ------               --------------  -----  \n",
      " 0   S. No.               10 non-null     int64  \n",
      " 1   Names                10 non-null     object \n",
      " 2   Years of Experience  10 non-null     int64  \n",
      " 3   Domain               9 non-null      object \n",
      " 4   Relevant Experience  9 non-null      float64\n",
      " 5   Income(USD)          9 non-null      float64\n",
      " 6   Marital Status       10 non-null     object \n",
      " 7   Number of siblings   10 non-null     int64  \n",
      "dtypes: float64(2), int64(3), object(3)\n",
      "memory usage: 768.0+ bytes\n"
     ]
    }
   ],
   "source": [
    "data.info()"
   ]
  },
  {
   "cell_type": "markdown",
   "metadata": {},
   "source": [
    "## Generating Descriptive Statistics for the Dataset\n",
    "\n",
    "The `data.describe()` function in pandas is used to generate descriptive statistics of a **DataFrame** or **Series**. \n",
    "\n",
    "For numerical data, the result's index will include `count`, `mean`, `std`, `min`, `25%`, `50%`, `75%`, and `max`. These provide a statistical summary of the central tendency, dispersion, and shape of the distribution of the dataset, excluding `NaN` values."
   ]
  },
  {
   "cell_type": "code",
   "execution_count": 7,
   "metadata": {},
   "outputs": [
    {
     "data": {
      "text/html": [
       "<div>\n",
       "<style scoped>\n",
       "    .dataframe tbody tr th:only-of-type {\n",
       "        vertical-align: middle;\n",
       "    }\n",
       "\n",
       "    .dataframe tbody tr th {\n",
       "        vertical-align: top;\n",
       "    }\n",
       "\n",
       "    .dataframe thead th {\n",
       "        text-align: right;\n",
       "    }\n",
       "</style>\n",
       "<table border=\"1\" class=\"dataframe\">\n",
       "  <thead>\n",
       "    <tr style=\"text-align: right;\">\n",
       "      <th></th>\n",
       "      <th>S. No.</th>\n",
       "      <th>Years of Experience</th>\n",
       "      <th>Relevant Experience</th>\n",
       "      <th>Income(USD)</th>\n",
       "      <th>Number of siblings</th>\n",
       "    </tr>\n",
       "  </thead>\n",
       "  <tbody>\n",
       "    <tr>\n",
       "      <th>count</th>\n",
       "      <td>10.00000</td>\n",
       "      <td>10.000000</td>\n",
       "      <td>9.000000</td>\n",
       "      <td>9.000000</td>\n",
       "      <td>10.0</td>\n",
       "    </tr>\n",
       "    <tr>\n",
       "      <th>mean</th>\n",
       "      <td>5.50000</td>\n",
       "      <td>7.800000</td>\n",
       "      <td>5.555556</td>\n",
       "      <td>14888.888889</td>\n",
       "      <td>3.0</td>\n",
       "    </tr>\n",
       "    <tr>\n",
       "      <th>std</th>\n",
       "      <td>3.02765</td>\n",
       "      <td>5.287301</td>\n",
       "      <td>3.745368</td>\n",
       "      <td>5883.120865</td>\n",
       "      <td>0.0</td>\n",
       "    </tr>\n",
       "    <tr>\n",
       "      <th>min</th>\n",
       "      <td>1.00000</td>\n",
       "      <td>0.000000</td>\n",
       "      <td>1.000000</td>\n",
       "      <td>7500.000000</td>\n",
       "      <td>3.0</td>\n",
       "    </tr>\n",
       "    <tr>\n",
       "      <th>25%</th>\n",
       "      <td>3.25000</td>\n",
       "      <td>3.500000</td>\n",
       "      <td>3.000000</td>\n",
       "      <td>9500.000000</td>\n",
       "      <td>3.0</td>\n",
       "    </tr>\n",
       "    <tr>\n",
       "      <th>50%</th>\n",
       "      <td>5.50000</td>\n",
       "      <td>8.000000</td>\n",
       "      <td>5.000000</td>\n",
       "      <td>15000.000000</td>\n",
       "      <td>3.0</td>\n",
       "    </tr>\n",
       "    <tr>\n",
       "      <th>75%</th>\n",
       "      <td>7.75000</td>\n",
       "      <td>11.500000</td>\n",
       "      <td>6.000000</td>\n",
       "      <td>19500.000000</td>\n",
       "      <td>3.0</td>\n",
       "    </tr>\n",
       "    <tr>\n",
       "      <th>max</th>\n",
       "      <td>10.00000</td>\n",
       "      <td>15.000000</td>\n",
       "      <td>13.000000</td>\n",
       "      <td>24000.000000</td>\n",
       "      <td>3.0</td>\n",
       "    </tr>\n",
       "  </tbody>\n",
       "</table>\n",
       "</div>"
      ],
      "text/plain": [
       "         S. No.  Years of Experience  Relevant Experience   Income(USD)  \\\n",
       "count  10.00000            10.000000             9.000000      9.000000   \n",
       "mean    5.50000             7.800000             5.555556  14888.888889   \n",
       "std     3.02765             5.287301             3.745368   5883.120865   \n",
       "min     1.00000             0.000000             1.000000   7500.000000   \n",
       "25%     3.25000             3.500000             3.000000   9500.000000   \n",
       "50%     5.50000             8.000000             5.000000  15000.000000   \n",
       "75%     7.75000            11.500000             6.000000  19500.000000   \n",
       "max    10.00000            15.000000            13.000000  24000.000000   \n",
       "\n",
       "       Number of siblings  \n",
       "count                10.0  \n",
       "mean                  3.0  \n",
       "std                   0.0  \n",
       "min                   3.0  \n",
       "25%                   3.0  \n",
       "50%                   3.0  \n",
       "75%                   3.0  \n",
       "max                   3.0  "
      ]
     },
     "execution_count": 7,
     "metadata": {},
     "output_type": "execute_result"
    }
   ],
   "source": [
    "data.describe()"
   ]
  },
  {
   "cell_type": "markdown",
   "metadata": {},
   "source": [
    "## Adding a New Column to the DataFrame\n",
    "* The below statement adds a new column called \"New_Column\" to the dataframe \"data\". \n",
    "* The values in this new column are set to 1 using the `np.ones()` function. "
   ]
  },
  {
   "cell_type": "code",
   "execution_count": 8,
   "metadata": {},
   "outputs": [],
   "source": [
    "data['New_Column'] = np.ones((10))"
   ]
  },
  {
   "cell_type": "markdown",
   "metadata": {},
   "source": [
    "* Display the DataFrame in the output.\n",
    "* The DataFrame \"data\" will be displayed in a tabular format"
   ]
  },
  {
   "cell_type": "code",
   "execution_count": 9,
   "metadata": {},
   "outputs": [
    {
     "data": {
      "text/html": [
       "<div>\n",
       "<style scoped>\n",
       "    .dataframe tbody tr th:only-of-type {\n",
       "        vertical-align: middle;\n",
       "    }\n",
       "\n",
       "    .dataframe tbody tr th {\n",
       "        vertical-align: top;\n",
       "    }\n",
       "\n",
       "    .dataframe thead th {\n",
       "        text-align: right;\n",
       "    }\n",
       "</style>\n",
       "<table border=\"1\" class=\"dataframe\">\n",
       "  <thead>\n",
       "    <tr style=\"text-align: right;\">\n",
       "      <th></th>\n",
       "      <th>S. No.</th>\n",
       "      <th>Names</th>\n",
       "      <th>Years of Experience</th>\n",
       "      <th>Domain</th>\n",
       "      <th>Relevant Experience</th>\n",
       "      <th>Income(USD)</th>\n",
       "      <th>Marital Status</th>\n",
       "      <th>Number of siblings</th>\n",
       "      <th>New_Column</th>\n",
       "    </tr>\n",
       "  </thead>\n",
       "  <tbody>\n",
       "    <tr>\n",
       "      <th>0</th>\n",
       "      <td>1</td>\n",
       "      <td>John</td>\n",
       "      <td>8</td>\n",
       "      <td>Automotive</td>\n",
       "      <td>6.0</td>\n",
       "      <td>20000.0</td>\n",
       "      <td>Single</td>\n",
       "      <td>3</td>\n",
       "      <td>1.0</td>\n",
       "    </tr>\n",
       "    <tr>\n",
       "      <th>1</th>\n",
       "      <td>2</td>\n",
       "      <td>Jason</td>\n",
       "      <td>5</td>\n",
       "      <td>Entertainment</td>\n",
       "      <td>4.0</td>\n",
       "      <td>15000.0</td>\n",
       "      <td>Married</td>\n",
       "      <td>3</td>\n",
       "      <td>1.0</td>\n",
       "    </tr>\n",
       "    <tr>\n",
       "      <th>2</th>\n",
       "      <td>3</td>\n",
       "      <td>Maria</td>\n",
       "      <td>10</td>\n",
       "      <td>Banking</td>\n",
       "      <td>3.0</td>\n",
       "      <td>18000.0</td>\n",
       "      <td>Single</td>\n",
       "      <td>3</td>\n",
       "      <td>1.0</td>\n",
       "    </tr>\n",
       "    <tr>\n",
       "      <th>3</th>\n",
       "      <td>4</td>\n",
       "      <td>Jacob</td>\n",
       "      <td>12</td>\n",
       "      <td>Insurance</td>\n",
       "      <td>10.0</td>\n",
       "      <td>24000.0</td>\n",
       "      <td>Single</td>\n",
       "      <td>3</td>\n",
       "      <td>1.0</td>\n",
       "    </tr>\n",
       "    <tr>\n",
       "      <th>4</th>\n",
       "      <td>5</td>\n",
       "      <td>Sarah</td>\n",
       "      <td>15</td>\n",
       "      <td>Logistics</td>\n",
       "      <td>5.0</td>\n",
       "      <td>8000.0</td>\n",
       "      <td>Married</td>\n",
       "      <td>3</td>\n",
       "      <td>1.0</td>\n",
       "    </tr>\n",
       "    <tr>\n",
       "      <th>5</th>\n",
       "      <td>6</td>\n",
       "      <td>Angelina</td>\n",
       "      <td>3</td>\n",
       "      <td>Travel</td>\n",
       "      <td>3.0</td>\n",
       "      <td>9500.0</td>\n",
       "      <td>Married</td>\n",
       "      <td>3</td>\n",
       "      <td>1.0</td>\n",
       "    </tr>\n",
       "    <tr>\n",
       "      <th>6</th>\n",
       "      <td>7</td>\n",
       "      <td>Krishna</td>\n",
       "      <td>0</td>\n",
       "      <td>NaN</td>\n",
       "      <td>NaN</td>\n",
       "      <td>NaN</td>\n",
       "      <td>Single</td>\n",
       "      <td>3</td>\n",
       "      <td>1.0</td>\n",
       "    </tr>\n",
       "    <tr>\n",
       "      <th>7</th>\n",
       "      <td>8</td>\n",
       "      <td>Adam</td>\n",
       "      <td>8</td>\n",
       "      <td>Food</td>\n",
       "      <td>5.0</td>\n",
       "      <td>7500.0</td>\n",
       "      <td>Single</td>\n",
       "      <td>3</td>\n",
       "      <td>1.0</td>\n",
       "    </tr>\n",
       "    <tr>\n",
       "      <th>8</th>\n",
       "      <td>9</td>\n",
       "      <td>Deepika</td>\n",
       "      <td>15</td>\n",
       "      <td>IT</td>\n",
       "      <td>13.0</td>\n",
       "      <td>19500.0</td>\n",
       "      <td>Married</td>\n",
       "      <td>3</td>\n",
       "      <td>1.0</td>\n",
       "    </tr>\n",
       "    <tr>\n",
       "      <th>9</th>\n",
       "      <td>10</td>\n",
       "      <td>Alan</td>\n",
       "      <td>2</td>\n",
       "      <td>Space</td>\n",
       "      <td>1.0</td>\n",
       "      <td>12500.0</td>\n",
       "      <td>Married</td>\n",
       "      <td>3</td>\n",
       "      <td>1.0</td>\n",
       "    </tr>\n",
       "  </tbody>\n",
       "</table>\n",
       "</div>"
      ],
      "text/plain": [
       "   S. No.     Names  Years of Experience         Domain  Relevant Experience  \\\n",
       "0       1      John                    8     Automotive                  6.0   \n",
       "1       2     Jason                    5  Entertainment                  4.0   \n",
       "2       3     Maria                   10        Banking                  3.0   \n",
       "3       4     Jacob                   12      Insurance                 10.0   \n",
       "4       5     Sarah                   15      Logistics                  5.0   \n",
       "5       6  Angelina                    3         Travel                  3.0   \n",
       "6       7   Krishna                    0            NaN                  NaN   \n",
       "7       8      Adam                    8           Food                  5.0   \n",
       "8       9   Deepika                   15             IT                 13.0   \n",
       "9      10      Alan                    2          Space                  1.0   \n",
       "\n",
       "   Income(USD) Marital Status  Number of siblings  New_Column  \n",
       "0      20000.0         Single                   3         1.0  \n",
       "1      15000.0        Married                   3         1.0  \n",
       "2      18000.0         Single                   3         1.0  \n",
       "3      24000.0         Single                   3         1.0  \n",
       "4       8000.0        Married                   3         1.0  \n",
       "5       9500.0        Married                   3         1.0  \n",
       "6          NaN         Single                   3         1.0  \n",
       "7       7500.0         Single                   3         1.0  \n",
       "8      19500.0        Married                   3         1.0  \n",
       "9      12500.0        Married                   3         1.0  "
      ]
     },
     "execution_count": 9,
     "metadata": {},
     "output_type": "execute_result"
    }
   ],
   "source": [
    "data"
   ]
  },
  {
   "cell_type": "markdown",
   "metadata": {},
   "source": [
    "## Retrieving the Shape of the DataFrame"
   ]
  },
  {
   "cell_type": "code",
   "execution_count": 10,
   "metadata": {},
   "outputs": [
    {
     "data": {
      "text/plain": [
       "(10, 9)"
      ]
     },
     "execution_count": 10,
     "metadata": {},
     "output_type": "execute_result"
    }
   ],
   "source": [
    "data.shape"
   ]
  },
  {
   "cell_type": "markdown",
   "metadata": {},
   "source": [
    "## Dropping a column\n",
    "*  `data.drop('Column_label', axis = 1)` is used to remove a column from a DataFrame in pandas. \n",
    "*  The argument `'S. No.'` is the label of the column that you want to drop. \n",
    "*  The `axis = 1` parameter indicates that an entire column should be dropped. \n",
    "*  If `axis = 0`, it would indicate a row.\n",
    "\n",
    "> This operation does not modify the original DataFrame by default. Instead, it returns a new DataFrame where the specified column is dropped. If you want to modify the original DataFrame, you would need to use the `inplace=True` argument like so: `data.drop('S. No.', axis = 1, inplace=True)`."
   ]
  },
  {
   "cell_type": "code",
   "execution_count": 11,
   "metadata": {},
   "outputs": [
    {
     "data": {
      "text/html": [
       "<div>\n",
       "<style scoped>\n",
       "    .dataframe tbody tr th:only-of-type {\n",
       "        vertical-align: middle;\n",
       "    }\n",
       "\n",
       "    .dataframe tbody tr th {\n",
       "        vertical-align: top;\n",
       "    }\n",
       "\n",
       "    .dataframe thead th {\n",
       "        text-align: right;\n",
       "    }\n",
       "</style>\n",
       "<table border=\"1\" class=\"dataframe\">\n",
       "  <thead>\n",
       "    <tr style=\"text-align: right;\">\n",
       "      <th></th>\n",
       "      <th>Names</th>\n",
       "      <th>Years of Experience</th>\n",
       "      <th>Domain</th>\n",
       "      <th>Relevant Experience</th>\n",
       "      <th>Income(USD)</th>\n",
       "      <th>Marital Status</th>\n",
       "      <th>Number of siblings</th>\n",
       "      <th>New_Column</th>\n",
       "    </tr>\n",
       "  </thead>\n",
       "  <tbody>\n",
       "    <tr>\n",
       "      <th>0</th>\n",
       "      <td>John</td>\n",
       "      <td>8</td>\n",
       "      <td>Automotive</td>\n",
       "      <td>6.0</td>\n",
       "      <td>20000.0</td>\n",
       "      <td>Single</td>\n",
       "      <td>3</td>\n",
       "      <td>1.0</td>\n",
       "    </tr>\n",
       "    <tr>\n",
       "      <th>1</th>\n",
       "      <td>Jason</td>\n",
       "      <td>5</td>\n",
       "      <td>Entertainment</td>\n",
       "      <td>4.0</td>\n",
       "      <td>15000.0</td>\n",
       "      <td>Married</td>\n",
       "      <td>3</td>\n",
       "      <td>1.0</td>\n",
       "    </tr>\n",
       "    <tr>\n",
       "      <th>2</th>\n",
       "      <td>Maria</td>\n",
       "      <td>10</td>\n",
       "      <td>Banking</td>\n",
       "      <td>3.0</td>\n",
       "      <td>18000.0</td>\n",
       "      <td>Single</td>\n",
       "      <td>3</td>\n",
       "      <td>1.0</td>\n",
       "    </tr>\n",
       "    <tr>\n",
       "      <th>3</th>\n",
       "      <td>Jacob</td>\n",
       "      <td>12</td>\n",
       "      <td>Insurance</td>\n",
       "      <td>10.0</td>\n",
       "      <td>24000.0</td>\n",
       "      <td>Single</td>\n",
       "      <td>3</td>\n",
       "      <td>1.0</td>\n",
       "    </tr>\n",
       "    <tr>\n",
       "      <th>4</th>\n",
       "      <td>Sarah</td>\n",
       "      <td>15</td>\n",
       "      <td>Logistics</td>\n",
       "      <td>5.0</td>\n",
       "      <td>8000.0</td>\n",
       "      <td>Married</td>\n",
       "      <td>3</td>\n",
       "      <td>1.0</td>\n",
       "    </tr>\n",
       "    <tr>\n",
       "      <th>5</th>\n",
       "      <td>Angelina</td>\n",
       "      <td>3</td>\n",
       "      <td>Travel</td>\n",
       "      <td>3.0</td>\n",
       "      <td>9500.0</td>\n",
       "      <td>Married</td>\n",
       "      <td>3</td>\n",
       "      <td>1.0</td>\n",
       "    </tr>\n",
       "    <tr>\n",
       "      <th>6</th>\n",
       "      <td>Krishna</td>\n",
       "      <td>0</td>\n",
       "      <td>NaN</td>\n",
       "      <td>NaN</td>\n",
       "      <td>NaN</td>\n",
       "      <td>Single</td>\n",
       "      <td>3</td>\n",
       "      <td>1.0</td>\n",
       "    </tr>\n",
       "    <tr>\n",
       "      <th>7</th>\n",
       "      <td>Adam</td>\n",
       "      <td>8</td>\n",
       "      <td>Food</td>\n",
       "      <td>5.0</td>\n",
       "      <td>7500.0</td>\n",
       "      <td>Single</td>\n",
       "      <td>3</td>\n",
       "      <td>1.0</td>\n",
       "    </tr>\n",
       "    <tr>\n",
       "      <th>8</th>\n",
       "      <td>Deepika</td>\n",
       "      <td>15</td>\n",
       "      <td>IT</td>\n",
       "      <td>13.0</td>\n",
       "      <td>19500.0</td>\n",
       "      <td>Married</td>\n",
       "      <td>3</td>\n",
       "      <td>1.0</td>\n",
       "    </tr>\n",
       "    <tr>\n",
       "      <th>9</th>\n",
       "      <td>Alan</td>\n",
       "      <td>2</td>\n",
       "      <td>Space</td>\n",
       "      <td>1.0</td>\n",
       "      <td>12500.0</td>\n",
       "      <td>Married</td>\n",
       "      <td>3</td>\n",
       "      <td>1.0</td>\n",
       "    </tr>\n",
       "  </tbody>\n",
       "</table>\n",
       "</div>"
      ],
      "text/plain": [
       "      Names  Years of Experience         Domain  Relevant Experience  \\\n",
       "0      John                    8     Automotive                  6.0   \n",
       "1     Jason                    5  Entertainment                  4.0   \n",
       "2     Maria                   10        Banking                  3.0   \n",
       "3     Jacob                   12      Insurance                 10.0   \n",
       "4     Sarah                   15      Logistics                  5.0   \n",
       "5  Angelina                    3         Travel                  3.0   \n",
       "6   Krishna                    0            NaN                  NaN   \n",
       "7      Adam                    8           Food                  5.0   \n",
       "8   Deepika                   15             IT                 13.0   \n",
       "9      Alan                    2          Space                  1.0   \n",
       "\n",
       "   Income(USD) Marital Status  Number of siblings  New_Column  \n",
       "0      20000.0         Single                   3         1.0  \n",
       "1      15000.0        Married                   3         1.0  \n",
       "2      18000.0         Single                   3         1.0  \n",
       "3      24000.0         Single                   3         1.0  \n",
       "4       8000.0        Married                   3         1.0  \n",
       "5       9500.0        Married                   3         1.0  \n",
       "6          NaN         Single                   3         1.0  \n",
       "7       7500.0         Single                   3         1.0  \n",
       "8      19500.0        Married                   3         1.0  \n",
       "9      12500.0        Married                   3         1.0  "
      ]
     },
     "execution_count": 11,
     "metadata": {},
     "output_type": "execute_result"
    }
   ],
   "source": [
    "data.drop('S. No.', axis = 1)"
   ]
  },
  {
   "cell_type": "markdown",
   "metadata": {},
   "source": [
    "## Identifying Unique Categories in a Column\"\n",
    "* `data['Column_label'].unique()` is used to find the unique values in a column of the DataFrame named 'data'.\n",
    "* In pandas, the `unique()` function is used to identify distinct values within a Series (a single column in a DataFrame is a Series). \n",
    "* This is useful when you're working with categorical data and you want to know what categories exist in the data without having to sort or filter the data manually."
   ]
  },
  {
   "cell_type": "code",
   "execution_count": 12,
   "metadata": {},
   "outputs": [
    {
     "data": {
      "text/plain": [
       "array(['Single', 'Married'], dtype=object)"
      ]
     },
     "execution_count": 12,
     "metadata": {},
     "output_type": "execute_result"
    }
   ],
   "source": [
    "data['Marital Status'].unique()"
   ]
  },
  {
   "cell_type": "markdown",
   "metadata": {},
   "source": [
    "## Calculating Correlation Matrix After Dropping Specific *Columns*\n",
    "\n",
    "* `.corr()` function is used to calculate the correlation matrix.\n",
    "* The `drop(['S. No.', 'Number of siblings', 'New_Column'], axis=1)` section removes the columns 'S. No.', 'Number of siblings', and 'New_Column' from the DataFrame as they either contain non-numeric data or are irrelevant.\n",
    "* The `axis = 1` parameter indicates that these are column labels.\n",
    "\n",
    "After these columns are dropped, the `corr()` function is called on the resulting DataFrame. \n",
    "* The `corr()` function calculates the pairwise correlation of columns, excluding NA/null values. \n",
    "* The output is a correlation matrix, which is a table showing correlation coefficients between variables. \n",
    "* Each cell in the table shows the correlation between two variables.\n",
    "\n",
    "The correlation coefficient is a statistical measure that calculates the strength of the relationship between the relative movements of two variables. The values range between -1.0 and 1.0. A correlation of -1.0 shows a perfect negative correlation, while a correlation of 1.0 shows a perfect positive correlation. A correlation of 0.0 shows no linear relationship between the movement of the two variables."
   ]
  },
  {
   "cell_type": "code",
   "execution_count": 26,
   "metadata": {},
   "outputs": [
    {
     "name": "stderr",
     "output_type": "stream",
     "text": [
      "C:\\Users\\Praveen_Prabha_Ravin\\AppData\\Local\\Temp\\ipykernel_8860\\1922322742.py:1: FutureWarning: The default value of numeric_only in DataFrame.corr is deprecated. In a future version, it will default to False. Select only valid columns or specify the value of numeric_only to silence this warning.\n",
      "  correlation = data.drop(['S. No.', 'Number of siblings', 'New_Column'], axis = 1).corr()\n"
     ]
    },
    {
     "data": {
      "text/html": [
       "<div>\n",
       "<style scoped>\n",
       "    .dataframe tbody tr th:only-of-type {\n",
       "        vertical-align: middle;\n",
       "    }\n",
       "\n",
       "    .dataframe tbody tr th {\n",
       "        vertical-align: top;\n",
       "    }\n",
       "\n",
       "    .dataframe thead th {\n",
       "        text-align: right;\n",
       "    }\n",
       "</style>\n",
       "<table border=\"1\" class=\"dataframe\">\n",
       "  <thead>\n",
       "    <tr style=\"text-align: right;\">\n",
       "      <th></th>\n",
       "      <th>Years of Experience</th>\n",
       "      <th>Relevant Experience</th>\n",
       "      <th>Income(USD)</th>\n",
       "    </tr>\n",
       "  </thead>\n",
       "  <tbody>\n",
       "    <tr>\n",
       "      <th>Years of Experience</th>\n",
       "      <td>1.000000</td>\n",
       "      <td>0.735342</td>\n",
       "      <td>0.299787</td>\n",
       "    </tr>\n",
       "    <tr>\n",
       "      <th>Relevant Experience</th>\n",
       "      <td>0.735342</td>\n",
       "      <td>1.000000</td>\n",
       "      <td>0.576118</td>\n",
       "    </tr>\n",
       "    <tr>\n",
       "      <th>Income(USD)</th>\n",
       "      <td>0.299787</td>\n",
       "      <td>0.576118</td>\n",
       "      <td>1.000000</td>\n",
       "    </tr>\n",
       "  </tbody>\n",
       "</table>\n",
       "</div>"
      ],
      "text/plain": [
       "<IPython.core.display.HTML object>"
      ]
     },
     "metadata": {},
     "output_type": "display_data"
    }
   ],
   "source": [
    "correlation = data.drop(['S. No.', 'Number of siblings', 'New_Column'], axis = 1).corr()\n",
    "\n",
    "# Display correlation matrix in a tabular form\n",
    "from IPython.display import display, HTML\n",
    "\n",
    "display(HTML(correlation._repr_html_()))"
   ]
  },
  {
   "cell_type": "markdown",
   "metadata": {},
   "source": [
    "## Write dataframe to a csv file"
   ]
  },
  {
   "cell_type": "code",
   "execution_count": 30,
   "metadata": {},
   "outputs": [],
   "source": [
    "correlation.to_csv('data/output/Corr.csv')"
   ]
  },
  {
   "cell_type": "markdown",
   "metadata": {},
   "source": [
    "## Setting a Specific DataFrame Value\n",
    "\n",
    "* `data.loc[2, 'Marital Status'] = np.nan` uses the `loc` function from pandas to access a specific location in the DataFrame `data` and assign a new value to it.\n",
    "* The `loc` function is a label-based data selection method which means that we have to pass the name of the row or column which we want to select. \n",
    "* This method includes the last element of the range passed in it, unlike `iloc` which is an index-based method.\n",
    "* In this case, `2` is the label of the row, and `'Marital Status'` is the label of the column. The value at this location is being set to `np.nan`, which represents a missing or null value in pandas."
   ]
  },
  {
   "cell_type": "code",
   "execution_count": 33,
   "metadata": {},
   "outputs": [
    {
     "data": {
      "text/html": [
       "<div>\n",
       "<style scoped>\n",
       "    .dataframe tbody tr th:only-of-type {\n",
       "        vertical-align: middle;\n",
       "    }\n",
       "\n",
       "    .dataframe tbody tr th {\n",
       "        vertical-align: top;\n",
       "    }\n",
       "\n",
       "    .dataframe thead th {\n",
       "        text-align: right;\n",
       "    }\n",
       "</style>\n",
       "<table border=\"1\" class=\"dataframe\">\n",
       "  <thead>\n",
       "    <tr style=\"text-align: right;\">\n",
       "      <th></th>\n",
       "      <th>S. No.</th>\n",
       "      <th>Names</th>\n",
       "      <th>Years of Experience</th>\n",
       "      <th>Domain</th>\n",
       "      <th>Relevant Experience</th>\n",
       "      <th>Income(USD)</th>\n",
       "      <th>Marital Status</th>\n",
       "      <th>Number of siblings</th>\n",
       "      <th>New_Column</th>\n",
       "    </tr>\n",
       "  </thead>\n",
       "  <tbody>\n",
       "    <tr>\n",
       "      <th>0</th>\n",
       "      <td>1</td>\n",
       "      <td>John</td>\n",
       "      <td>8</td>\n",
       "      <td>Automotive</td>\n",
       "      <td>6.0</td>\n",
       "      <td>20000.0</td>\n",
       "      <td>Single</td>\n",
       "      <td>3</td>\n",
       "      <td>1.0</td>\n",
       "    </tr>\n",
       "    <tr>\n",
       "      <th>1</th>\n",
       "      <td>2</td>\n",
       "      <td>Jason</td>\n",
       "      <td>5</td>\n",
       "      <td>Entertainment</td>\n",
       "      <td>4.0</td>\n",
       "      <td>15000.0</td>\n",
       "      <td>Married</td>\n",
       "      <td>3</td>\n",
       "      <td>1.0</td>\n",
       "    </tr>\n",
       "    <tr>\n",
       "      <th>2</th>\n",
       "      <td>3</td>\n",
       "      <td>Maria</td>\n",
       "      <td>10</td>\n",
       "      <td>Banking</td>\n",
       "      <td>3.0</td>\n",
       "      <td>18000.0</td>\n",
       "      <td>NaN</td>\n",
       "      <td>3</td>\n",
       "      <td>1.0</td>\n",
       "    </tr>\n",
       "    <tr>\n",
       "      <th>3</th>\n",
       "      <td>4</td>\n",
       "      <td>Jacob</td>\n",
       "      <td>12</td>\n",
       "      <td>Insurance</td>\n",
       "      <td>10.0</td>\n",
       "      <td>24000.0</td>\n",
       "      <td>Single</td>\n",
       "      <td>3</td>\n",
       "      <td>1.0</td>\n",
       "    </tr>\n",
       "    <tr>\n",
       "      <th>4</th>\n",
       "      <td>5</td>\n",
       "      <td>Sarah</td>\n",
       "      <td>15</td>\n",
       "      <td>Logistics</td>\n",
       "      <td>5.0</td>\n",
       "      <td>8000.0</td>\n",
       "      <td>Married</td>\n",
       "      <td>3</td>\n",
       "      <td>1.0</td>\n",
       "    </tr>\n",
       "    <tr>\n",
       "      <th>5</th>\n",
       "      <td>6</td>\n",
       "      <td>Angelina</td>\n",
       "      <td>3</td>\n",
       "      <td>Travel</td>\n",
       "      <td>3.0</td>\n",
       "      <td>9500.0</td>\n",
       "      <td>Married</td>\n",
       "      <td>3</td>\n",
       "      <td>1.0</td>\n",
       "    </tr>\n",
       "    <tr>\n",
       "      <th>6</th>\n",
       "      <td>7</td>\n",
       "      <td>Krishna</td>\n",
       "      <td>0</td>\n",
       "      <td>NaN</td>\n",
       "      <td>NaN</td>\n",
       "      <td>NaN</td>\n",
       "      <td>Single</td>\n",
       "      <td>3</td>\n",
       "      <td>1.0</td>\n",
       "    </tr>\n",
       "    <tr>\n",
       "      <th>7</th>\n",
       "      <td>8</td>\n",
       "      <td>Adam</td>\n",
       "      <td>8</td>\n",
       "      <td>Food</td>\n",
       "      <td>5.0</td>\n",
       "      <td>7500.0</td>\n",
       "      <td>Single</td>\n",
       "      <td>3</td>\n",
       "      <td>1.0</td>\n",
       "    </tr>\n",
       "    <tr>\n",
       "      <th>8</th>\n",
       "      <td>9</td>\n",
       "      <td>Deepika</td>\n",
       "      <td>15</td>\n",
       "      <td>IT</td>\n",
       "      <td>13.0</td>\n",
       "      <td>19500.0</td>\n",
       "      <td>Married</td>\n",
       "      <td>3</td>\n",
       "      <td>1.0</td>\n",
       "    </tr>\n",
       "    <tr>\n",
       "      <th>9</th>\n",
       "      <td>10</td>\n",
       "      <td>Alan</td>\n",
       "      <td>2</td>\n",
       "      <td>Space</td>\n",
       "      <td>1.0</td>\n",
       "      <td>12500.0</td>\n",
       "      <td>Married</td>\n",
       "      <td>3</td>\n",
       "      <td>1.0</td>\n",
       "    </tr>\n",
       "  </tbody>\n",
       "</table>\n",
       "</div>"
      ],
      "text/plain": [
       "<IPython.core.display.HTML object>"
      ]
     },
     "metadata": {},
     "output_type": "display_data"
    }
   ],
   "source": [
    "data.loc[2, 'Marital Status'] = np.nan\n",
    "display(HTML(data._repr_html_()))"
   ]
  },
  {
   "cell_type": "markdown",
   "metadata": {},
   "source": [
    "## Imputing Missing Values with Different Strategies\n",
    "The `SimpleImputer` class from the `sklearn.impute` module can be used to handle missing data in numerical or categorical columns. It allows you to replace missing values using various strategies."
   ]
  },
  {
   "cell_type": "code",
   "execution_count": 20,
   "metadata": {},
   "outputs": [],
   "source": [
    "# import SimpleImputer class\n",
    "from sklearn.impute import SimpleImputer"
   ]
  },
  {
   "cell_type": "code",
   "execution_count": 37,
   "metadata": {},
   "outputs": [
    {
     "data": {
      "text/plain": [
       "0     Single\n",
       "1    Married\n",
       "2        NaN\n",
       "3     Single\n",
       "4    Married\n",
       "5    Married\n",
       "6     Single\n",
       "7     Single\n",
       "8    Married\n",
       "9    Married\n",
       "Name: Marital Status, dtype: object"
      ]
     },
     "execution_count": 37,
     "metadata": {},
     "output_type": "execute_result"
    }
   ],
   "source": [
    "data['Marital Status']"
   ]
  },
  {
   "cell_type": "markdown",
   "metadata": {},
   "source": [
    "\n",
    "### Imputing Missing Values with Most Frequent Value\n",
    "\n",
    "The code snippet below demonstrates how to use the `SimpleImputer` class from the scikit-learn library to impute missing values in a column with the most frequent value:\n",
    "\n",
    "* `SimpleImputer(strategy='most_frequent')` creates an instance of the `SimpleImputer` class with the 'most_frequent' strategy. \n",
    "* This strategy fills missing values with the most frequent value in the specified column.\n",
    "* `imputer_most_frequent.fit_transform(data[['Marital Status']])` applies the imputation to the specified column ('Marital Status') in the DataFrame `data`. The missing values are replaced with the most frequent value.\n",
    "* The output, is a new DataFrame where missing values in the 'Marital Status' column have been replaced with the most frequent value.\n",
    "\n",
    "> **Notes:**  \n",
    ">  * The Original DataFrame is not miodified by this operation.\n",
    ">  * If you want to replace the original column with the imputed one, you would need to assign the result back to the column in the original DataFrame.\n",
    ">  * The double square brackets (`[['Marital Status']]`) are used to keep the result as a DataFrame. If single square brackets were used (`['Marital Status']`), the result would be a Series instead."
   ]
  },
  {
   "cell_type": "code",
   "execution_count": 46,
   "metadata": {},
   "outputs": [
    {
     "data": {
      "text/plain": [
       "array([['Single'],\n",
       "       ['Married'],\n",
       "       ['Married'],\n",
       "       ['Single'],\n",
       "       ['Married'],\n",
       "       ['Married'],\n",
       "       ['Single'],\n",
       "       ['Single'],\n",
       "       ['Married'],\n",
       "       ['Married']], dtype=object)"
      ]
     },
     "execution_count": 46,
     "metadata": {},
     "output_type": "execute_result"
    }
   ],
   "source": [
    "# Create an instance of SimpleImputer with the 'most_frequent' strategy\n",
    "imputer_most_frequent = SimpleImputer(strategy = 'most_frequent')\n",
    "\n",
    "# Fit and transform the data, replacing missing values in the 'Marital Status' column\n",
    "imputer_most_frequent.fit_transform(data[['Marital Status']])\n"
   ]
  },
  {
   "cell_type": "markdown",
   "metadata": {},
   "source": [
    "### Imputing Missing Values with Mean\n",
    "\n",
    "* `SimpleImputer(strategy = 'mean')` creates an instance of the `SimpleImputer` class with the 'mean' strategy.\n",
    "* The 'mean' strategy means that the mean value of the column will be used to fill in the missing values.\n",
    "* This strategy can only be used with numerical data.\n",
    "* `imputer_mean.fit_transform(data[['Income(USD)']])` applies the imputation to the specified column ('Income(USD)')\n"
   ]
  },
  {
   "cell_type": "code",
   "execution_count": 45,
   "metadata": {},
   "outputs": [
    {
     "data": {
      "text/plain": [
       "array([[20000.        ],\n",
       "       [15000.        ],\n",
       "       [18000.        ],\n",
       "       [24000.        ],\n",
       "       [ 8000.        ],\n",
       "       [ 9500.        ],\n",
       "       [14888.88888889],\n",
       "       [ 7500.        ],\n",
       "       [19500.        ],\n",
       "       [12500.        ]])"
      ]
     },
     "execution_count": 45,
     "metadata": {},
     "output_type": "execute_result"
    }
   ],
   "source": [
    "imputer_mean = SimpleImputer(strategy = 'mean')\n",
    "imputer_mean.fit_transform(data[['Income(USD)']])"
   ]
  },
  {
   "cell_type": "markdown",
   "metadata": {},
   "source": [
    "### Imputing Missing Values with Median\n",
    "\n",
    "* `SimpleImputer(strategy = 'median')` creates an instance of the `SimpleImputer` class with the 'median' strategy.\n",
    "* The 'median' strategy means that the median value of the column will be used to fill in the missing values.\n",
    "* This strategy can only be used with numerical data.\n",
    "* `imputer_median.fit_transform(data[['Income(USD)']])` applies the imputation to the specified column ('Income(USD)')\n"
   ]
  },
  {
   "cell_type": "code",
   "execution_count": 41,
   "metadata": {},
   "outputs": [
    {
     "data": {
      "text/plain": [
       "array([[20000.],\n",
       "       [15000.],\n",
       "       [18000.],\n",
       "       [24000.],\n",
       "       [ 8000.],\n",
       "       [ 9500.],\n",
       "       [15000.],\n",
       "       [ 7500.],\n",
       "       [19500.],\n",
       "       [12500.]])"
      ]
     },
     "execution_count": 41,
     "metadata": {},
     "output_type": "execute_result"
    }
   ],
   "source": [
    "imputer_median = SimpleImputer(strategy = 'median')\n",
    "imputer_median.fit_transform(data[['Income(USD)']])"
   ]
  },
  {
   "cell_type": "markdown",
   "metadata": {},
   "source": [
    "### Imputing Missing Values with a Constant\n",
    "\n",
    "* `SimpleImputer(strategy = 'constant', fill_value = 7000)` creates an instance of the `SimpleImputer` class with the 'constant' strategy.\n",
    "* The 'constant' strategy means that a constant value (7000 in this case) will be used to fill in the missing values.\n",
    "* This strategy can be used with both numerical and categorical data.\n",
    "* `imputer_constant.fit_transform(data[['Income(USD)']])` applies the imputation to the specified column ('Income(USD)')\n"
   ]
  },
  {
   "cell_type": "code",
   "execution_count": 42,
   "metadata": {},
   "outputs": [
    {
     "data": {
      "text/plain": [
       "array([[20000.],\n",
       "       [15000.],\n",
       "       [18000.],\n",
       "       [24000.],\n",
       "       [ 8000.],\n",
       "       [ 9500.],\n",
       "       [ 7000.],\n",
       "       [ 7500.],\n",
       "       [19500.],\n",
       "       [12500.]])"
      ]
     },
     "execution_count": 42,
     "metadata": {},
     "output_type": "execute_result"
    }
   ],
   "source": [
    "imputer_constant = SimpleImputer(strategy = 'constant', fill_value = 7000)\n",
    "imputer_constant.fit_transform(data[['Income(USD)']])\n",
    "\n"
   ]
  }
 ],
 "metadata": {
  "kernelspec": {
   "display_name": "Python 3",
   "language": "python",
   "name": "python3"
  },
  "language_info": {
   "codemirror_mode": {
    "name": "ipython",
    "version": 3
   },
   "file_extension": ".py",
   "mimetype": "text/x-python",
   "name": "python",
   "nbconvert_exporter": "python",
   "pygments_lexer": "ipython3",
   "version": "3.10.11"
  }
 },
 "nbformat": 4,
 "nbformat_minor": 4
}
